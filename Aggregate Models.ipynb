{
 "cells": [
  {
   "cell_type": "markdown",
   "metadata": {},
   "source": [
    "# 1. Imports"
   ]
  },
  {
   "cell_type": "code",
   "execution_count": 1,
   "metadata": {},
   "outputs": [],
   "source": [
    "import numpy as np\n",
    "import matplotlib.pyplot as plt\n",
    "import pandas as pd\n",
    "import sklearn.metrics\n",
    "from sklearn.model_selection import GridSearchCV\n",
    "from tools import utils, prop_metrics\n",
    "from tools.read_data import read_data\n",
    "from tools.PCA_dim_reduction import PCA_dim_reduction, binary_classification_data\n",
    "from sklearn.model_selection import cross_val_score\n",
    "from sklearn.preprocessing import StandardScaler\n",
    "from sklearn.pipeline import Pipeline\n",
    "from sklearn.preprocessing import PolynomialFeatures\n",
    "\n",
    "#Classifiers\n",
    "from sklearn.tree import DecisionTreeClassifier\n",
    "from sklearn.discriminant_analysis import QuadraticDiscriminantAnalysis\n",
    "from sklearn.svm import SVC\n",
    "from sklearn.neighbors import KNeighborsClassifier\n",
    "from sklearn.ensemble import VotingClassifier\n",
    "from sklearn.discriminant_analysis import LinearDiscriminantAnalysis\n",
    "from tools import DT_implementation, QDA_implementation"
   ]
  },
  {
   "cell_type": "markdown",
   "metadata": {},
   "source": [
    "# 2. Classifiers\n",
    "### This section will include all of the classifiers used in this project except DT"
   ]
  },
  {
   "cell_type": "markdown",
   "metadata": {},
   "source": [
    "## 2.1 Quadratic Discriminant Analysis Classifier\n",
    "### 2.1.1 Quadratic Discriminant Analysis on multiclass (6) data preprocessed by PCA dimensionality reduction (first 5 components)"
   ]
  },
  {
   "cell_type": "code",
   "execution_count": 2,
   "metadata": {},
   "outputs": [
    {
     "name": "stdout",
     "output_type": "stream",
     "text": [
      "\n",
      "Confusion matrix for prediction:\n",
      " [[20. 14.  4.  0.  0.  0.]\n",
      " [ 0.  7.  0.  1.  1.  0.]\n",
      " [ 1.  1.  1.  0.  0.  0.]\n",
      " [ 0.  1.  0.  3.  0.  1.]\n",
      " [ 0.  0.  0.  0.  0.  0.]\n",
      " [ 0.  0.  0.  0.  2.  8.]]\n",
      "\n",
      "\n",
      "Accuracy for prediction:\n",
      " 0.6\n",
      "\n",
      "\n",
      "Metrics for classes\n",
      "_______________________________________________________________________________\n",
      "Class\t|\tPrecision\t|\tRecall\t\t|\tF1 Score\n",
      "_______________________________________________________________________________\n",
      "\n",
      "Class 1 |\t 0.526 \t\t|\t 0.952 \t\t|\t 0.678\n",
      "\n",
      "Class 2 |\t 0.778 \t\t|\t 0.304 \t\t|\t 0.438\n",
      "\n",
      "Class 3 |\t 0.333 \t\t|\t 0.2 \t\t|\t 0.25\n",
      "\n",
      "Class 5 |\t 0.6 \t\t|\t 0.75 \t\t|\t 0.667\n",
      "\n",
      "Class 6 |\t 0 \t\t|\t 0.0 \t\t|\t 0\n",
      "\n",
      "Class 7 |\t 0.8 \t\t|\t 0.889 \t\t|\t 0.842\n",
      "\n",
      "\n",
      "Weighted F1 score:\n",
      " 0.551\n",
      "\n",
      "Macro F1 score:\n",
      " 0.479\n"
     ]
    }
   ],
   "source": [
    "# Get PC's from train/test data\n",
    "train_x, train_y, test_x, test_y = PCA_dim_reduction('data/df_train.csv', 'data/df_test.csv', 5)\n",
    "\n",
    "# Get class observations in arrays in a list\n",
    "class_list = QDA_implementation.preprocess_QDA(train_x, train_y)\n",
    "\n",
    "# Get class means, covariance matrices and probabilities\n",
    "mean_list, covmat_list, prob_list = QDA_implementation.get_parameters_QDA(class_list, train_x)\n",
    "\n",
    "# Get y predictions (class that maximises the discriminant function for each observation)\n",
    "ypred = QDA_implementation.QDA_class_scoring(test_x, test_y, class_list, covmat_list, mean_list, prob_list)\n",
    "\n",
    "# Get performance report on the classification metrics\n",
    "prop_metrics.performance_report(test_y, ypred, len(class_list))"
   ]
  },
  {
   "cell_type": "markdown",
   "metadata": {},
   "source": [
    "### 2.1.2 Quadratic Discriminant Analysis on Binary classes (window/non-window) data preprocessed by  PCA dimensionality reduction (first 5 components)"
   ]
  },
  {
   "cell_type": "code",
   "execution_count": 3,
   "metadata": {},
   "outputs": [
    {
     "name": "stdout",
     "output_type": "stream",
     "text": [
      "\n",
      "Confusion matrix for prediction:\n",
      " [[47.  1.]\n",
      " [ 2. 15.]]\n",
      "\n",
      "\n",
      "Accuracy for prediction:\n",
      " 0.9538461538461539\n",
      "\n",
      "\n",
      "Metrics for classes\n",
      "_______________________________________________________________________________\n",
      "Class\t|\tPrecision\t|\tRecall\t\t|\tF1 Score\n",
      "_______________________________________________________________________________\n",
      "\n",
      "Class 1 |\t 0.979 \t\t|\t 0.959 \t\t|\t 0.969\n",
      "\n",
      "Class 2 |\t 0.882 \t\t|\t 0.938 \t\t|\t 0.909\n",
      "\n",
      "\n",
      "Weighted F1 score:\n",
      " 0.954\n",
      "\n",
      "Macro F1 score:\n",
      " 0.939\n"
     ]
    }
   ],
   "source": [
    "# Get PC's from train/test BINARY data\n",
    "train_x, train_y, test_x, test_y = binary_classification_data('data/df_train.csv', 'data/df_test.csv')\n",
    "\n",
    "mask = train_y == 1\n",
    "class1 = train_x[mask, :]\n",
    "\n",
    "mask = train_y == 2\n",
    "class2 = train_x[mask, :]\n",
    "\n",
    "# Class list for combined classes\n",
    "class_list = [class1, class2]\n",
    "\n",
    "# Get class means, covariance matrices and probabilities\n",
    "mean_list, covmat_list, prob_list = QDA_implementation.get_parameters_QDA(class_list, train_x)\n",
    "\n",
    "# Get y predictions (class that maximises the discriminant function for each observation)\n",
    "ypred = QDA_implementation.QDA_class_scoring(test_x, test_y, class_list, covmat_list, mean_list, prob_list)\n",
    "\n",
    "# Get performance report on the classification metrics\n",
    "prop_metrics.performance_report(test_y, ypred, len(class_list))"
   ]
  },
  {
   "cell_type": "markdown",
   "metadata": {},
   "source": [
    "## 2.2 Support Vector Machine Classifier\n",
    "### 2.2.1 Support Vector Machine classifier on multiclass (6) data"
   ]
  },
  {
   "cell_type": "code",
   "execution_count": 4,
   "metadata": {},
   "outputs": [
    {
     "name": "stdout",
     "output_type": "stream",
     "text": [
      "\n",
      "Confusion matrix for prediction:\n",
      " [[18.  1.  2.  0.  1.  0.]\n",
      " [ 3. 19.  3.  1.  0.  1.]\n",
      " [ 0.  0.  0.  0.  0.  0.]\n",
      " [ 0.  2.  0.  3.  0.  0.]\n",
      " [ 0.  1.  0.  0.  2.  0.]\n",
      " [ 0.  0.  0.  0.  0.  8.]]\n",
      "\n",
      "\n",
      "Accuracy for prediction:\n",
      " 0.7692307692307693\n",
      "\n",
      "\n",
      "Metrics for classes\n",
      "_______________________________________________________________________________\n",
      "Class\t|\tPrecision\t|\tRecall\t\t|\tF1 Score\n",
      "_______________________________________________________________________________\n",
      "\n",
      "Class 1 |\t 0.818 \t\t|\t 0.857 \t\t|\t 0.837\n",
      "\n",
      "Class 2 |\t 0.704 \t\t|\t 0.826 \t\t|\t 0.76\n",
      "\n",
      "Class 3 |\t 0 \t\t|\t 0.0 \t\t|\t 0\n",
      "\n",
      "Class 5 |\t 0.6 \t\t|\t 0.75 \t\t|\t 0.667\n",
      "\n",
      "Class 6 |\t 0.667 \t\t|\t 0.667 \t\t|\t 0.667\n",
      "\n",
      "Class 7 |\t 1.0 \t\t|\t 0.889 \t\t|\t 0.941\n",
      "\n",
      "\n",
      "Weighted F1 score:\n",
      " 0.742\n",
      "\n",
      "Macro F1 score:\n",
      " 0.645\n"
     ]
    }
   ],
   "source": [
    "train, test = read_data()\n",
    "\n",
    "svm = Pipeline(((\"scaler\", StandardScaler()),\n",
    "                        (\"svm_clf\", SVC(kernel=\"rbf\",\n",
    "                        degree=5, C=4/3, gamma=0.1))))\n",
    "                \n",
    "svm.fit(train[:,:-1], train[:,-1])\n",
    "y_predicted = svm.predict(test[:,:-1])\n",
    "y_actual = test[:,-1]\n",
    "        \n",
    "prop_metrics.performance_report(y_actual, y_predicted, n_classes=6)"
   ]
  },
  {
   "cell_type": "markdown",
   "metadata": {},
   "source": [
    "### 2.2.2 Support Vector Machine classifier on binary (window/non-window) data"
   ]
  },
  {
   "cell_type": "code",
   "execution_count": 5,
   "metadata": {},
   "outputs": [
    {
     "name": "stdout",
     "output_type": "stream",
     "text": [
      "\n",
      "Confusion matrix for prediction:\n",
      " [[46.  3.]\n",
      " [ 3. 13.]]\n",
      "\n",
      "\n",
      "Accuracy for prediction:\n",
      " 0.9076923076923077\n",
      "\n",
      "\n",
      "Metrics for classes\n",
      "_______________________________________________________________________________\n",
      "Class\t|\tPrecision\t|\tRecall\t\t|\tF1 Score\n",
      "_______________________________________________________________________________\n",
      "\n",
      "Class 1 |\t 0.939 \t\t|\t 0.939 \t\t|\t 0.939\n",
      "\n",
      "Class 2 |\t 0.812 \t\t|\t 0.812 \t\t|\t 0.812\n",
      "\n",
      "\n",
      "Weighted F1 score:\n",
      " 0.908\n",
      "\n",
      "Macro F1 score:\n",
      " 0.876\n"
     ]
    }
   ],
   "source": [
    "train, test = read_data()\n",
    "\n",
    "for idx,i in enumerate(train):\n",
    "    if i[-1] == 1 or i[-1] == 2 or i[-1] == 3:\n",
    "        train[idx,-1] = 1\n",
    "    else:\n",
    "        train[idx,-1] = 2\n",
    "        \n",
    "for idx,i in enumerate(test):\n",
    "    if i[-1] == 1 or i[-1] == 2 or i[-1] == 3:\n",
    "        test[idx,-1] = 1\n",
    "    else:\n",
    "        test[idx,-1] = 2\n",
    "        \n",
    "        \n",
    "bi_svm = Pipeline(((\"scaler\", StandardScaler()),\n",
    "                        (\"svm_clf\", SVC(kernel=\"rbf\",\n",
    "                        degree=1, C=2/3, gamma=0.1))))\n",
    "                \n",
    "bi_svm.fit(train[:,:-1], train[:,-1])\n",
    "bi_y_predicted = bi_svm.predict(test[:,:-1])\n",
    "bi_y_actual = test[:,-1]\n",
    "        \n",
    "prop_metrics.performance_report(bi_y_actual, bi_y_predicted, n_classes=2)"
   ]
  },
  {
   "cell_type": "markdown",
   "metadata": {},
   "source": [
    "## 2.3 K-Nearest Neighbors classifier on 2 features (from dimentionality reduction)\n",
    "### 2.3.1 K-Nearest Neighbors classifier on multiclass (6) data with top 2 linear discrimnant components"
   ]
  },
  {
   "cell_type": "code",
   "execution_count": 6,
   "metadata": {},
   "outputs": [
    {
     "name": "stdout",
     "output_type": "stream",
     "text": [
      "\n",
      "Confusion matrix for prediction:\n",
      " [[17. 10.  2.  0.  1.  0.]\n",
      " [ 2. 10.  3.  1.  0.  0.]\n",
      " [ 2.  1.  0.  0.  0.  0.]\n",
      " [ 0.  2.  0.  3.  0.  1.]\n",
      " [ 0.  0.  0.  0.  2.  1.]\n",
      " [ 0.  0.  0.  0.  0.  7.]]\n",
      "\n",
      "\n",
      "Accuracy for prediction:\n",
      " 0.6\n",
      "\n",
      "\n",
      "Metrics for classes\n",
      "_______________________________________________________________________________\n",
      "Class\t|\tPrecision\t|\tRecall\t\t|\tF1 Score\n",
      "_______________________________________________________________________________\n",
      "\n",
      "Class 1 |\t 0.567 \t\t|\t 0.81 \t\t|\t 0.667\n",
      "\n",
      "Class 2 |\t 0.625 \t\t|\t 0.435 \t\t|\t 0.513\n",
      "\n",
      "Class 3 |\t 0.0 \t\t|\t 0.0 \t\t|\t 0\n",
      "\n",
      "Class 5 |\t 0.5 \t\t|\t 0.75 \t\t|\t 0.6\n",
      "\n",
      "Class 6 |\t 0.667 \t\t|\t 0.667 \t\t|\t 0.667\n",
      "\n",
      "Class 7 |\t 1.0 \t\t|\t 0.778 \t\t|\t 0.875\n",
      "\n",
      "\n",
      "Weighted F1 score:\n",
      " 0.586\n",
      "\n",
      "Macro F1 score:\n",
      " 0.554\n"
     ]
    }
   ],
   "source": [
    "# Read in data and split features and labels\n",
    "train, test = read_data()\n",
    "train_x, train_y, test_x, test_y = train[:,:-1], train[:,-1], test[:,:-1], test[:,-1]\n",
    "\n",
    "# Standardize data\n",
    "mean,std = np.mean(train_x, axis=0), np.std(train_x, axis=0)\n",
    "\n",
    "train_x, test_x = (train_x - mean) / std, (test_x - mean) / std\n",
    "\n",
    "# LD transformation with eigen decomposition\n",
    "lda = LinearDiscriminantAnalysis(solver='eigen')\n",
    "\n",
    "train_x = lda.fit_transform(train_x, train_y)\n",
    "test_x = lda.transform(test_x)\n",
    "\n",
    "# Define the classifier\n",
    "knn = KNeighborsClassifier(4)\n",
    "\n",
    "# Fit with the 2 first LD components\n",
    "knn.fit(train_x[:,:2],train_y)\n",
    "\n",
    "# Predict with the 2 first LD components\n",
    "y_pred = knn.predict(test_x[:,:2])\n",
    "\n",
    "# Performance metrics\n",
    "prop_metrics.performance_report(test_y, y_pred, 6)"
   ]
  },
  {
   "cell_type": "markdown",
   "metadata": {},
   "source": [
    "### 2.3.2 K-Nearest Neighbors classifier on binary (window/non-window) data with top 2 linear discriminant components"
   ]
  },
  {
   "cell_type": "code",
   "execution_count": 7,
   "metadata": {},
   "outputs": [
    {
     "name": "stdout",
     "output_type": "stream",
     "text": [
      "\n",
      "Confusion matrix for prediction:\n",
      " [[44.  2.]\n",
      " [ 5. 14.]]\n",
      "\n",
      "\n",
      "Accuracy for prediction:\n",
      " 0.8923076923076924\n",
      "\n",
      "\n",
      "Metrics for classes\n",
      "_______________________________________________________________________________\n",
      "Class\t|\tPrecision\t|\tRecall\t\t|\tF1 Score\n",
      "_______________________________________________________________________________\n",
      "\n",
      "Class 1 |\t 0.957 \t\t|\t 0.898 \t\t|\t 0.926\n",
      "\n",
      "Class 2 |\t 0.737 \t\t|\t 0.875 \t\t|\t 0.8\n",
      "\n",
      "\n",
      "Weighted F1 score:\n",
      " 0.895\n",
      "\n",
      "Macro F1 score:\n",
      " 0.863\n"
     ]
    }
   ],
   "source": [
    "# Read in data and split features and labels\n",
    "train, test = read_data()\n",
    "train_x, train_y, test_x, test_y = train[:,:-1], train[:,-1], test[:,:-1], test[:,-1]\n",
    "\n",
    "# Standardize data\n",
    "mean,std = np.mean(train_x, axis=0), np.std(train_x, axis=0)\n",
    "\n",
    "train_x, test_x = (train_x - mean) / std, (test_x - mean) / std\n",
    "\n",
    "# LD transformation with eigen decomposition\n",
    "lda = LinearDiscriminantAnalysis(solver='eigen')\n",
    "\n",
    "train_x = lda.fit_transform(train_x, train_y)\n",
    "test_x = lda.transform(test_x)\n",
    "\n",
    "# Seperate the test and train classes into window and non-window\n",
    "train_y[train_y < 4] = 1\n",
    "train_y[train_y > 4] = 2\n",
    "\n",
    "test_y[test_y < 4] = 1\n",
    "test_y[test_y > 4] = 2\n",
    "\n",
    "# Define the classifier\n",
    "knn = KNeighborsClassifier(1)\n",
    "\n",
    "# Fit on the training data\n",
    "knn.fit(train_x[:,:2], train_y)\n",
    "\n",
    "# Predict labels for test data\n",
    "y_pred = knn.predict(test_x[:,:2])\n",
    "\n",
    "# Performance Metrics\n",
    "prop_metrics.performance_report(test_y, y_pred, 2)"
   ]
  },
  {
   "cell_type": "markdown",
   "metadata": {},
   "source": [
    "## 2.4 Soft Voting Classifier\n",
    "### 2.4.1 Soft Voting classifier on multiclass (6) data preprocessed by PCA dimensionality reduction (first  5 components)"
   ]
  },
  {
   "cell_type": "code",
   "execution_count": 9,
   "metadata": {},
   "outputs": [
    {
     "name": "stdout",
     "output_type": "stream",
     "text": [
      "\n",
      "Confusion matrix for prediction:\n",
      " [[21.  1.  4.  0.  1.  0.]\n",
      " [ 0. 22.  1.  1.  0.  0.]\n",
      " [ 0.  0.  0.  0.  0.  0.]\n",
      " [ 0.  0.  0.  3.  0.  1.]\n",
      " [ 0.  0.  0.  0.  2.  0.]\n",
      " [ 0.  0.  0.  0.  0.  8.]]\n",
      "\n",
      "\n",
      "Accuracy for prediction:\n",
      " 0.8615384615384616\n",
      "\n",
      "\n",
      "Metrics for classes\n",
      "_______________________________________________________________________________\n",
      "Class\t|\tPrecision\t|\tRecall\t\t|\tF1 Score\n",
      "_______________________________________________________________________________\n",
      "\n",
      "Class 1 |\t 0.778 \t\t|\t 1.0 \t\t|\t 0.875\n",
      "\n",
      "Class 2 |\t 0.917 \t\t|\t 0.957 \t\t|\t 0.936\n",
      "\n",
      "Class 3 |\t 0 \t\t|\t 0.0 \t\t|\t 0\n",
      "\n",
      "Class 5 |\t 0.75 \t\t|\t 0.75 \t\t|\t 0.75\n",
      "\n",
      "Class 6 |\t 1.0 \t\t|\t 0.667 \t\t|\t 0.8\n",
      "\n",
      "Class 7 |\t 1.0 \t\t|\t 0.889 \t\t|\t 0.941\n",
      "\n",
      "\n",
      "Weighted F1 score:\n",
      " 0.827\n",
      "\n",
      "Macro F1 score:\n",
      " 0.717\n"
     ]
    }
   ],
   "source": [
    "# Read in the 5 component pca-data\n",
    "train_x, train_y, test_x, test_y = PCA_dim_reduction('data/df_train.csv', 'data/df_test.csv', 5)\n",
    "\n",
    "# Define the base models and hyper parameters\n",
    "base_models = [('QDA', QuadraticDiscriminantAnalysis()), \n",
    "               ('DT', DecisionTreeClassifier(max_depth=2, min_samples_split=9)), \n",
    "               ('SVM', SVC(C=1000, gamma=0.01, probability=True)), \n",
    "               ('KNN', KNeighborsClassifier(n_neighbors=2))]\n",
    "\n",
    "# Define the meta model\n",
    "meta_model = VotingClassifier(estimators=base_models, voting = 'soft', weights=[3, 3, 5, 3]) # Weight chosen by finetuning\n",
    "\n",
    "# Fit the meta model to the train data\n",
    "meta_model.fit(train_x, train_y)\n",
    "\n",
    "# Committee's prediction on the train data\n",
    "pred_y = meta_model.predict(test_x)\n",
    "\n",
    "# Performance of the ensemble of models' voting\n",
    "prop_metrics.performance_report(test_y, meta_model.predict(test_x), 6)"
   ]
  },
  {
   "cell_type": "markdown",
   "metadata": {},
   "source": [
    "### 2.4.2 Soft Voting classifier on Binary classes (window/non-window) data preprocessed by  PCA dimensionality reduction (first 5 components)"
   ]
  },
  {
   "cell_type": "code",
   "execution_count": 11,
   "metadata": {},
   "outputs": [
    {
     "name": "stdout",
     "output_type": "stream",
     "text": [
      "\n",
      "Confusion matrix for prediction:\n",
      " [[47.  1.]\n",
      " [ 2. 15.]]\n",
      "\n",
      "\n",
      "Accuracy for prediction:\n",
      " 0.9538461538461539\n",
      "\n",
      "\n",
      "Metrics for classes\n",
      "_______________________________________________________________________________\n",
      "Class\t|\tPrecision\t|\tRecall\t\t|\tF1 Score\n",
      "_______________________________________________________________________________\n",
      "\n",
      "Class 1 |\t 0.979 \t\t|\t 0.959 \t\t|\t 0.969\n",
      "\n",
      "Class 2 |\t 0.882 \t\t|\t 0.938 \t\t|\t 0.909\n",
      "\n",
      "\n",
      "Weighted F1 score:\n",
      " 0.954\n",
      "\n",
      "Macro F1 score:\n",
      " 0.939\n"
     ]
    }
   ],
   "source": [
    "# Read in binary window/non-window 5 component pca-data\n",
    "train_x, train_y, test_x, test_y = binary_classification_data('data/df_train.csv', 'data/df_test.csv')\n",
    "\n",
    "# Try model from search above, if none then use earlier model\n",
    "base_models = [('QDA', QuadraticDiscriminantAnalysis()), \n",
    "               ('DT', DecisionTreeClassifier(max_depth=2, min_samples_split=8)), \n",
    "               ('SVM', SVC(C=100, gamma=0.1, probability=True)), \n",
    "               ('KNN', KNeighborsClassifier(n_neighbors=1))]\n",
    "\n",
    "meta_model = VotingClassifier(estimators= base_models, voting='soft')\n",
    "\n",
    "# fit the model\n",
    "meta_model.fit(train_x, train_y)\n",
    "\n",
    "# get predictions from the voting classifier\n",
    "pred_y = meta_model.predict(test_x)\n",
    "\n",
    "# print performance metrics from the predictions on the test data\n",
    "prop_metrics.performance_report(test_y, meta_model.predict(test_x), 2)"
   ]
  },
  {
   "cell_type": "code",
   "execution_count": null,
   "metadata": {},
   "outputs": [],
   "source": []
  },
  {
   "cell_type": "code",
   "execution_count": null,
   "metadata": {},
   "outputs": [],
   "source": []
  },
  {
   "cell_type": "code",
   "execution_count": null,
   "metadata": {},
   "outputs": [],
   "source": []
  }
 ],
 "metadata": {
  "kernelspec": {
   "display_name": "Python 3",
   "language": "python",
   "name": "python3"
  },
  "language_info": {
   "codemirror_mode": {
    "name": "ipython",
    "version": 3
   },
   "file_extension": ".py",
   "mimetype": "text/x-python",
   "name": "python",
   "nbconvert_exporter": "python",
   "pygments_lexer": "ipython3",
   "version": "3.7.3"
  }
 },
 "nbformat": 4,
 "nbformat_minor": 2
}
