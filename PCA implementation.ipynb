{
 "cells": [
  {
   "cell_type": "markdown",
   "metadata": {},
   "source": [
    "# PCA function implemented using numpy"
   ]
  },
  {
   "cell_type": "code",
   "execution_count": 10,
   "metadata": {},
   "outputs": [],
   "source": [
    "import numpy as np"
   ]
  },
  {
   "cell_type": "code",
   "execution_count": 11,
   "metadata": {},
   "outputs": [],
   "source": [
    "# Implementation of PCA using numpy\n",
    "def PCA_dim_reduction(train_file, test_file, n_components):\n",
    "    # Read data\n",
    "    train = np.loadtxt(train_file, skiprows=1, delimiter=\",\")\n",
    "    test = np.loadtxt(test_file, skiprows=1, delimiter=\",\")\n",
    "\n",
    "    train_x = train[:,:-1]  \n",
    "    train_y = train[:,-1]\n",
    "\n",
    "    test_x = test[:,:-1]\n",
    "    test_y = test[:,-1]\n",
    "    \n",
    "    # Standardize data\n",
    "    mean = np.mean(train_x, axis=0)\n",
    "    std = np.std(train_x, axis=0)\n",
    "    \n",
    "    train_x = (train_x - mean) / std\n",
    "    test_x = (test_x - mean) / std\n",
    "    \n",
    "    # Get covariance matrix\n",
    "    covmat = np.cov(train_x.T)\n",
    "    \n",
    "    # Get eigenvalues\n",
    "    eigval, eigvec = np.linalg.eig(covmat)\n",
    "    \n",
    "    # Get explained variance (if needed)\n",
    "    exp_var = []\n",
    "    for i in range(len(eigval)):\n",
    "        exp_var.append(eigval[i]/np.sum(eigval))\n",
    "    exp_var = sorted(exp_var, reverse=True)\n",
    "    \n",
    "    sum = 0\n",
    "    x = 0\n",
    "    for i in exp_var:\n",
    "        x += 1\n",
    "        print(x)\n",
    "        sum += i\n",
    "        print(sum)\n",
    "\n",
    "    # Pair up eigenvalues and vectors, so the vectors can be ranked by values\n",
    "    eigenpairs = []\n",
    "    for i in range(len(eigval)):\n",
    "        eigenpairs.append((eigval[i]/np.sum(eigval), eigvec[:, i].T))\n",
    "    eigenpairs = sorted(eigenpairs, reverse=True)\n",
    "    \n",
    "    # Put in the vectors from most to least important in a list\n",
    "    sorted_vectors = []\n",
    "    for i in range(len(eigenpairs)):\n",
    "        sorted_vectors.append(eigenpairs[i][1])\n",
    "    \n",
    "    # Make new variables to store the transformed data (the n principle coponents)\n",
    "    new_train_x = np.zeros((len(train_x), n_components))\n",
    "    new_test_x = np.zeros((len(test_x), n_components))\n",
    "    \n",
    "    # Transform the data into n principle components on the new subspace\n",
    "    for i in range(n_components):\n",
    "        new_train_x[:,i] = train_x @ sorted_vectors[i]\n",
    "        new_test_x[:,i] = test_x @ sorted_vectors[i]\n",
    "    \n",
    "    # Store transformed data (pc's) in old variables\n",
    "    train_x = new_train_x\n",
    "    test_x = new_test_x\n",
    "    \n",
    "    # Return the transformed train and test data + class labels\n",
    "    return train_x, train_y, test_x, test_y"
   ]
  },
  {
   "cell_type": "code",
   "execution_count": 12,
   "metadata": {},
   "outputs": [
    {
     "name": "stdout",
     "output_type": "stream",
     "text": [
      "1\n",
      "0.2822318559497399\n",
      "2\n",
      "0.5126359430005635\n",
      "3\n",
      "0.6768321455802936\n",
      "4\n",
      "0.7939825740266838\n",
      "5\n",
      "0.8961363795624497\n",
      "6\n",
      "0.9515120420858799\n",
      "7\n",
      "0.9931944416652915\n",
      "8\n",
      "0.9998226742515848\n",
      "9\n",
      "1.0000000000000002\n"
     ]
    }
   ],
   "source": [
    "train_x, train_y, test_x, test_y = PCA_dim_reduction('data/df_train.csv', 'data/df_test.csv', 5)"
   ]
  },
  {
   "cell_type": "code",
   "execution_count": 13,
   "metadata": {},
   "outputs": [
    {
     "ename": "ModuleNotFoundError",
     "evalue": "No module named 'plot_tools'",
     "output_type": "error",
     "traceback": [
      "\u001b[0;31m---------------------------------------------------------------------------\u001b[0m",
      "\u001b[0;31mModuleNotFoundError\u001b[0m                       Traceback (most recent call last)",
      "\u001b[0;32m<ipython-input-13-c81112bf6cb3>\u001b[0m in \u001b[0;36m<module>\u001b[0;34m\u001b[0m\n\u001b[1;32m      1\u001b[0m \u001b[0;31m# create source code for LaTeX plot\u001b[0m\u001b[0;34m\u001b[0m\u001b[0;34m\u001b[0m\u001b[0;34m\u001b[0m\u001b[0m\n\u001b[0;32m----> 2\u001b[0;31m \u001b[0;32mfrom\u001b[0m \u001b[0mplot_tools\u001b[0m \u001b[0;32mimport\u001b[0m \u001b[0mmake_LaTeX_pca_plot\u001b[0m\u001b[0;34m\u001b[0m\u001b[0;34m\u001b[0m\u001b[0m\n\u001b[0m\u001b[1;32m      3\u001b[0m \u001b[0;34m\u001b[0m\u001b[0m\n\u001b[1;32m      4\u001b[0m \u001b[0mplot_data\u001b[0m \u001b[0;34m=\u001b[0m \u001b[0mPCA_dim_reduction\u001b[0m\u001b[0;34m(\u001b[0m\u001b[0;34m'Final_project_DATA/df_train.csv'\u001b[0m\u001b[0;34m,\u001b[0m\u001b[0;34m'Final_project_DATA/df_test.csv'\u001b[0m\u001b[0;34m,\u001b[0m\u001b[0;36m2\u001b[0m\u001b[0;34m)\u001b[0m\u001b[0;34m\u001b[0m\u001b[0;34m\u001b[0m\u001b[0m\n",
      "\u001b[0;31mModuleNotFoundError\u001b[0m: No module named 'plot_tools'"
     ]
    }
   ],
   "source": [
    "# create source code for LaTeX plot \n",
    "from plot_tools import make_LaTeX_pca_plot\n",
    "\n",
    "plot_data = PCA_dim_reduction('Final_project_DATA/df_train.csv','Final_project_DATA/df_test.csv',2)"
   ]
  },
  {
   "cell_type": "code",
   "execution_count": 14,
   "metadata": {},
   "outputs": [
    {
     "ename": "NameError",
     "evalue": "name 'plot_data' is not defined",
     "output_type": "error",
     "traceback": [
      "\u001b[0;31m---------------------------------------------------------------------------\u001b[0m",
      "\u001b[0;31mNameError\u001b[0m                                 Traceback (most recent call last)",
      "\u001b[0;32m<ipython-input-14-8b2924785bd6>\u001b[0m in \u001b[0;36m<module>\u001b[0;34m\u001b[0m\n\u001b[0;32m----> 1\u001b[0;31m \u001b[0mplot_data\u001b[0m\u001b[0;34m[\u001b[0m\u001b[0;36m2\u001b[0m\u001b[0;34m]\u001b[0m\u001b[0;34m\u001b[0m\u001b[0;34m\u001b[0m\u001b[0m\n\u001b[0m",
      "\u001b[0;31mNameError\u001b[0m: name 'plot_data' is not defined"
     ]
    }
   ],
   "source": [
    "plot_data[2]"
   ]
  },
  {
   "cell_type": "code",
   "execution_count": 22,
   "metadata": {},
   "outputs": [
    {
     "name": "stderr",
     "output_type": "stream",
     "text": [
      "/home/kaspergroenbek98/anaconda3/lib/python3.7/site-packages/ipykernel_launcher.py:7: RuntimeWarning: invalid value encountered in sqrt\n",
      "  import sys\n"
     ]
    },
    {
     "data": {
      "text/plain": [
       "array([[nan, nan, nan, ..., nan, nan, nan],\n",
       "       [nan, nan, nan, ..., nan, nan, nan],\n",
       "       [nan, nan, nan, ..., nan, nan, nan],\n",
       "       ...,\n",
       "       [nan, nan, nan, ..., nan, nan, nan],\n",
       "       [nan, nan, nan, ..., nan, nan, nan],\n",
       "       [nan, nan, nan, ..., nan, nan, nan]])"
      ]
     },
     "execution_count": 22,
     "metadata": {},
     "output_type": "execute_result"
    }
   ],
   "source": []
  },
  {
   "cell_type": "code",
   "execution_count": null,
   "metadata": {},
   "outputs": [],
   "source": []
  }
 ],
 "metadata": {
  "kernelspec": {
   "display_name": "Python 3",
   "language": "python",
   "name": "python3"
  },
  "language_info": {
   "codemirror_mode": {
    "name": "ipython",
    "version": 3
   },
   "file_extension": ".py",
   "mimetype": "text/x-python",
   "name": "python",
   "nbconvert_exporter": "python",
   "pygments_lexer": "ipython3",
   "version": "3.7.3"
  }
 },
 "nbformat": 4,
 "nbformat_minor": 2
}
